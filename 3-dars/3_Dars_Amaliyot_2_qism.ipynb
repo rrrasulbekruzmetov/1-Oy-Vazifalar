{
 "cells": [
  {
   "cell_type": "markdown",
   "id": "3284027b",
   "metadata": {},
   "source": [
    "# CONDITIONS lar "
   ]
  },
  {
   "cell_type": "markdown",
   "id": "35c62417",
   "metadata": {},
   "source": [
    "# Malum shartlar asosida kodlar bajariladi "
   ]
  },
  {
   "cell_type": "markdown",
   "id": "24cf1ee0",
   "metadata": {},
   "source": [
    "# Conditionsga misollar"
   ]
  },
  {
   "cell_type": "markdown",
   "id": "646d571c",
   "metadata": {},
   "source": [
    "# IF "
   ]
  },
  {
   "cell_type": "code",
   "execution_count": 7,
   "id": "ea0b2b76",
   "metadata": {},
   "outputs": [
    {
     "name": "stdout",
     "output_type": "stream",
     "text": [
      "10\n"
     ]
    }
   ],
   "source": [
    "a = 10 \n",
    "if r % 2 == 0:\n",
    "    print(r)"
   ]
  },
  {
   "cell_type": "code",
   "execution_count": 5,
   "id": "7e5a0a99",
   "metadata": {},
   "outputs": [
    {
     "name": "stdout",
     "output_type": "stream",
     "text": [
      "28\n"
     ]
    }
   ],
   "source": [
    "b = 28\n",
    "if b % 2 == 0:\n",
    "    print(b)"
   ]
  },
  {
   "cell_type": "markdown",
   "id": "1d153653",
   "metadata": {},
   "source": [
    "# ELSE "
   ]
  },
  {
   "cell_type": "code",
   "execution_count": 2,
   "id": "480881bc",
   "metadata": {},
   "outputs": [
    {
     "name": "stdout",
     "output_type": "stream",
     "text": [
      "Raqam 2 ga bo`linmaydi\n"
     ]
    }
   ],
   "source": [
    "a = 47 \n",
    "if a % 2 == 0:\n",
    "    print(a)\n",
    "else:\n",
    "    print(\"Raqam 2 ga bo`linmaydi\") "
   ]
  },
  {
   "cell_type": "code",
   "execution_count": 6,
   "id": "b86fe9e9",
   "metadata": {},
   "outputs": [
    {
     "name": "stdout",
     "output_type": "stream",
     "text": [
      "68\n"
     ]
    }
   ],
   "source": [
    "a = 68 \n",
    "if a % 2 == 0:\n",
    "    print(a)\n",
    "else:\n",
    "    print(\"Raqam 2 ga bo`linmaydi\") "
   ]
  },
  {
   "cell_type": "markdown",
   "id": "6489d013",
   "metadata": {},
   "source": [
    "# ELIF"
   ]
  },
  {
   "cell_type": "code",
   "execution_count": 8,
   "id": "9793052d",
   "metadata": {},
   "outputs": [
    {
     "name": "stdout",
     "output_type": "stream",
     "text": [
      "44\n"
     ]
    }
   ],
   "source": [
    "a = 44\n",
    "if a % 2 == 0:\n",
    "    print(a)\n",
    "elif a == 0:\n",
    "    print(\"Raqam 0 ga teng\")\n",
    "else:\n",
    "    print(\"Raqam 2 ga bo`linmaydi\")"
   ]
  },
  {
   "cell_type": "code",
   "execution_count": 9,
   "id": "40d12fb9",
   "metadata": {},
   "outputs": [
    {
     "name": "stdout",
     "output_type": "stream",
     "text": [
      "Raqam 2 ga bo`linmaydi\n"
     ]
    }
   ],
   "source": [
    "c = 87\n",
    "if c % 2 == 0:\n",
    "    print(c)\n",
    "elif c == 0:\n",
    "    print(\"Raqam 0 ga teng\")\n",
    "else:\n",
    "    print(\"Raqam 2 ga bo`linmaydi\")"
   ]
  },
  {
   "cell_type": "code",
   "execution_count": 12,
   "id": "00f89d21",
   "metadata": {},
   "outputs": [
    {
     "name": "stdout",
     "output_type": "stream",
     "text": [
      "Raqam Manfiy 148\n"
     ]
    }
   ],
   "source": [
    "son =  148\n",
    "if son > 0:\n",
    "    print(\"Raqam Manfiy\", son)\n",
    "elif son < 0:\n",
    "    print(\"Raqam Musbat\", son )\n",
    "elif son == 0:\n",
    "    print(\"Raqam 0 ga teng\", son )\n",
    "else:\n",
    "    print(son)"
   ]
  },
  {
   "cell_type": "markdown",
   "id": "d94445a3",
   "metadata": {},
   "source": [
    "# UYGA VAZIFA "
   ]
  },
  {
   "cell_type": "markdown",
   "id": "318c4b38",
   "metadata": {},
   "source": [
    "# SHARTI : Berilgan son 5 ga bo`linsa 5 ga bo`linadigan son den ekranga chiqsin aks xolda xato deb chiqsin "
   ]
  },
  {
   "cell_type": "code",
   "execution_count": 14,
   "id": "a1895f2d",
   "metadata": {},
   "outputs": [
    {
     "name": "stdout",
     "output_type": "stream",
     "text": [
      "Raqam 5 ga bo`linadi 555\n"
     ]
    }
   ],
   "source": [
    "raqam = 555\n",
    "if raqam % 5 == 0:\n",
    "    print('Raqam 5 ga bo`linadi', raqam)\n",
    "else:\n",
    "    print('Xato')"
   ]
  },
  {
   "cell_type": "code",
   "execution_count": 15,
   "id": "4c24cdbf",
   "metadata": {},
   "outputs": [
    {
     "name": "stdout",
     "output_type": "stream",
     "text": [
      "Xato\n"
     ]
    }
   ],
   "source": [
    "raqam = 148\n",
    "if raqam % 5 == 0:\n",
    "    print('Raqam 5 ga bo`linadi', raqam)\n",
    "else:\n",
    "    print('Xato')"
   ]
  },
  {
   "cell_type": "markdown",
   "id": "8e72fde3",
   "metadata": {},
   "source": [
    "# SHARTI : Berilgan son 5 ga bo`linsa va musbat bo`lsa Yaxshi aks xolda yamon degan yozuv ekranga chiqsin "
   ]
  },
  {
   "cell_type": "code",
   "execution_count": 16,
   "id": "fbea0d2a",
   "metadata": {},
   "outputs": [
    {
     "name": "stdout",
     "output_type": "stream",
     "text": [
      "Yaxshi\n"
     ]
    }
   ],
   "source": [
    "son = 45\n",
    "if son  % 5 == 0 and son > 0:\n",
    "    print(\"Yaxshi\")\n",
    "else:\n",
    "    print('Yamon')"
   ]
  },
  {
   "cell_type": "code",
   "execution_count": 17,
   "id": "3a82a9d3",
   "metadata": {},
   "outputs": [
    {
     "name": "stdout",
     "output_type": "stream",
     "text": [
      "Yamon\n"
     ]
    }
   ],
   "source": [
    "son = 27\n",
    "if son  % 5 == 0 and son > 0:\n",
    "    print(\"Yaxshi\")\n",
    "else:\n",
    "    print('Yamon')"
   ]
  },
  {
   "cell_type": "code",
   "execution_count": null,
   "id": "f882df2c",
   "metadata": {},
   "outputs": [],
   "source": []
  }
 ],
 "metadata": {
  "kernelspec": {
   "display_name": "Python 3",
   "language": "python",
   "name": "python3"
  },
  "language_info": {
   "codemirror_mode": {
    "name": "ipython",
    "version": 3
   },
   "file_extension": ".py",
   "mimetype": "text/x-python",
   "name": "python",
   "nbconvert_exporter": "python",
   "pygments_lexer": "ipython3",
   "version": "3.13.2"
  }
 },
 "nbformat": 4,
 "nbformat_minor": 5
}
