{
 "cells": [
  {
   "cell_type": "markdown",
   "id": "b7000faa",
   "metadata": {},
   "source": [
    "# Conditions "
   ]
  },
  {
   "cell_type": "markdown",
   "id": "fa6a45cf",
   "metadata": {},
   "source": [
    "# Simple Condition"
   ]
  },
  {
   "cell_type": "markdown",
   "id": "ebd1f64c",
   "metadata": {},
   "source": [
    "# 1-MISOL "
   ]
  },
  {
   "cell_type": "code",
   "execution_count": 1,
   "id": "d257b27d",
   "metadata": {},
   "outputs": [
    {
     "name": "stdout",
     "output_type": "stream",
     "text": [
      "Raqam toq 25\n"
     ]
    }
   ],
   "source": [
    "raqam  = int(input(\"Istalgan raqam kiriting: \"))\n",
    "if raqam % 2 == 0:\n",
    "    print('Raqam juft', raqam)\n",
    "else:\n",
    "    print('Raqam toq', raqam)"
   ]
  },
  {
   "cell_type": "markdown",
   "id": "2b47fb8f",
   "metadata": {},
   "source": [
    "# 2-MISOL "
   ]
  },
  {
   "cell_type": "code",
   "execution_count": 5,
   "id": "4c5cf463",
   "metadata": {},
   "outputs": [
    {
     "name": "stdout",
     "output_type": "stream",
     "text": [
      "Musbat Son  56\n"
     ]
    }
   ],
   "source": [
    "son = int(input(\"Istalgan sonni kiriting>>>>: \"))\n",
    "if son > 0:\n",
    "    print('Musbat Son ', raqam)\n",
    "elif son < 0:\n",
    "    print('Manfiy Son', son)\n",
    "elif son == 0:\n",
    "    print('Son 0 ga teng ', son)\n",
    "else:\n",
    "    print('Nomalum son', son)"
   ]
  },
  {
   "cell_type": "markdown",
   "id": "141a4a2c",
   "metadata": {},
   "source": [
    "# Ternary Condition "
   ]
  },
  {
   "cell_type": "markdown",
   "id": "1ca1a65b",
   "metadata": {},
   "source": [
    "# 1-Misol "
   ]
  },
  {
   "cell_type": "code",
   "execution_count": 21,
   "id": "7a0788f1",
   "metadata": {},
   "outputs": [
    {
     "name": "stdout",
     "output_type": "stream",
     "text": [
      "Talabaning bahosi = A'lo\n"
     ]
    }
   ],
   "source": [
    "baho = 5\n",
    "talaba = \"Talabaning bahosi = A'lo\" if baho >= 5 else \" Talabaning bahosi = Yaxshi\" if baho >= 4 else \" Talabaning bahosi =  Qoniqarli\"\n",
    "print(talaba) "
   ]
  },
  {
   "cell_type": "markdown",
   "id": "6c29b6e4",
   "metadata": {},
   "source": [
    "# 2-Misol "
   ]
  },
  {
   "cell_type": "code",
   "execution_count": 30,
   "id": "bc8d43ce",
   "metadata": {},
   "outputs": [
    {
     "name": "stdout",
     "output_type": "stream",
     "text": [
      "Yosh\n"
     ]
    }
   ],
   "source": [
    "yosh_darajasi =  25\n",
    "qarilik = \"Yosh\" if yosh_darajasi <= 30 else \"Katta\" if yosh_darajasi <= 55 else \"Qari odam\"\n",
    "print(qarilik) "
   ]
  },
  {
   "cell_type": "markdown",
   "id": "0ca48829",
   "metadata": {},
   "source": []
  },
  {
   "cell_type": "markdown",
   "id": "8c00269c",
   "metadata": {},
   "source": [
    "# NESTED Condition "
   ]
  },
  {
   "cell_type": "markdown",
   "id": "f07be79f",
   "metadata": {},
   "source": [
    "# 1-MISOL "
   ]
  },
  {
   "cell_type": "code",
   "execution_count": 31,
   "id": "a9f865de",
   "metadata": {},
   "outputs": [
    {
     "name": "stdout",
     "output_type": "stream",
     "text": [
      "Marhamat kirishingiz mumkin\n"
     ]
    }
   ],
   "source": [
    "login = \"rasulbek\"\n",
    "parol = \"112233\"\n",
    "\n",
    "if login == \"rasulbek\":\n",
    "    if parol == \"112233\":\n",
    "        print(\"Marhamat kirishingiz mumkin\")\n",
    "    else:\n",
    "        print(\"Parol XATO ??? \")\n",
    "else:\n",
    "    print(\"Login XATO ???\")\n"
   ]
  },
  {
   "cell_type": "markdown",
   "id": "1eba374b",
   "metadata": {},
   "source": [
    "# 2-MISOL "
   ]
  },
  {
   "cell_type": "code",
   "execution_count": 32,
   "id": "be778c64",
   "metadata": {},
   "outputs": [
    {
     "name": "stdout",
     "output_type": "stream",
     "text": [
      "Biroz miqdorda pul berilgan\n"
     ]
    }
   ],
   "source": [
    "mashinaga_tolov = 15000\n",
    "tolov = 7000\n",
    "\n",
    "if tolov > 0:\n",
    "    if tolov == mashinaga_tolov:\n",
    "        print(\"Mashina uchun  hamma pul berilgan\")\n",
    "    else:\n",
    "        print(\"Biroz miqdorda pul berilgan\")\n",
    "else:\n",
    "    print(\"Umuman pul to`lanmagan\")\n"
   ]
  },
  {
   "cell_type": "code",
   "execution_count": null,
   "id": "1050baff",
   "metadata": {},
   "outputs": [],
   "source": []
  }
 ],
 "metadata": {
  "kernelspec": {
   "display_name": "Python 3",
   "language": "python",
   "name": "python3"
  },
  "language_info": {
   "codemirror_mode": {
    "name": "ipython",
    "version": 3
   },
   "file_extension": ".py",
   "mimetype": "text/x-python",
   "name": "python",
   "nbconvert_exporter": "python",
   "pygments_lexer": "ipython3",
   "version": "3.13.3"
  }
 },
 "nbformat": 4,
 "nbformat_minor": 5
}
