{
 "cells": [
  {
   "cell_type": "markdown",
   "id": "0e7534bf",
   "metadata": {},
   "source": [
    "# INDEXING BO`YICHA MISOLLAR KO`RAMIZ"
   ]
  },
  {
   "cell_type": "markdown",
   "id": "20a698ef",
   "metadata": {},
   "source": []
  },
  {
   "cell_type": "code",
   "execution_count": 3,
   "id": "c5567d53",
   "metadata": {},
   "outputs": [],
   "source": [
    "mashinalar = ['cobalt', 'damas', 'malibu', 'gentra', 'tiko', 'nexia', 'epica', 'lacetti', 'equinox']"
   ]
  },
  {
   "cell_type": "code",
   "execution_count": 4,
   "id": "f5590efd",
   "metadata": {},
   "outputs": [
    {
     "data": {
      "text/plain": [
       "'cobalt'"
      ]
     },
     "execution_count": 4,
     "metadata": {},
     "output_type": "execute_result"
    }
   ],
   "source": [
    "mashinalar[0]"
   ]
  },
  {
   "cell_type": "code",
   "execution_count": 5,
   "id": "3a516a4d",
   "metadata": {},
   "outputs": [
    {
     "data": {
      "text/plain": [
       "'equinox'"
      ]
     },
     "execution_count": 5,
     "metadata": {},
     "output_type": "execute_result"
    }
   ],
   "source": [
    "mashinalar[-1]"
   ]
  },
  {
   "cell_type": "code",
   "execution_count": 6,
   "id": "c8834dce",
   "metadata": {},
   "outputs": [
    {
     "data": {
      "text/plain": [
       "['cobalt', 'damas', 'malibu']"
      ]
     },
     "execution_count": 6,
     "metadata": {},
     "output_type": "execute_result"
    }
   ],
   "source": [
    "mashinalar[0:3]"
   ]
  },
  {
   "cell_type": "code",
   "execution_count": 7,
   "id": "c3e0f79b",
   "metadata": {},
   "outputs": [
    {
     "data": {
      "text/plain": [
       "['cobalt', 'malibu', 'tiko']"
      ]
     },
     "execution_count": 7,
     "metadata": {},
     "output_type": "execute_result"
    }
   ],
   "source": [
    "mashinalar[0:5:2]"
   ]
  },
  {
   "cell_type": "code",
   "execution_count": 9,
   "id": "0a0cba56",
   "metadata": {},
   "outputs": [
    {
     "data": {
      "text/plain": [
       "['equinox',\n",
       " 'lacetti',\n",
       " 'epica',\n",
       " 'nexia',\n",
       " 'tiko',\n",
       " 'gentra',\n",
       " 'malibu',\n",
       " 'damas',\n",
       " 'cobalt']"
      ]
     },
     "execution_count": 9,
     "metadata": {},
     "output_type": "execute_result"
    }
   ],
   "source": [
    "mashinalar[::-1]"
   ]
  },
  {
   "cell_type": "code",
   "execution_count": 10,
   "id": "2d13a565",
   "metadata": {},
   "outputs": [
    {
     "name": "stdout",
     "output_type": "stream",
     "text": [
      "cobalt\n",
      "damas\n",
      "malibu\n",
      "gentra\n",
      "tiko\n",
      "nexia\n",
      "epica\n",
      "lacetti\n",
      "equinox\n"
     ]
    }
   ],
   "source": [
    "for i in mashinalar:\n",
    "    print(i)"
   ]
  },
  {
   "cell_type": "code",
   "execution_count": 13,
   "id": "654a9aa2",
   "metadata": {},
   "outputs": [
    {
     "data": {
      "text/plain": [
       "['nexia', 'epica', 'lacetti', 'equinox']"
      ]
     },
     "execution_count": 13,
     "metadata": {},
     "output_type": "execute_result"
    }
   ],
   "source": [
    "mashinalar[5:9]"
   ]
  },
  {
   "cell_type": "code",
   "execution_count": null,
   "id": "d012bc14",
   "metadata": {},
   "outputs": [],
   "source": []
  }
 ],
 "metadata": {
  "kernelspec": {
   "display_name": "Python 3",
   "language": "python",
   "name": "python3"
  },
  "language_info": {
   "codemirror_mode": {
    "name": "ipython",
    "version": 3
   },
   "file_extension": ".py",
   "mimetype": "text/x-python",
   "name": "python",
   "nbconvert_exporter": "python",
   "pygments_lexer": "ipython3",
   "version": "3.13.2"
  }
 },
 "nbformat": 4,
 "nbformat_minor": 5
}
